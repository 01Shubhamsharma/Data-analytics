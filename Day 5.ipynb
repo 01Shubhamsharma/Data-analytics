{
 "cells": [
  {
   "cell_type": "code",
   "execution_count": 3,
   "id": "72b08c14-e711-4c1c-b56f-e871b5dd74e1",
   "metadata": {},
   "outputs": [
    {
     "name": "stdin",
     "output_type": "stream",
     "text": [
      "Enter First number :  6\n",
      "Enter Second number :  0\n"
     ]
    },
    {
     "name": "stdout",
     "output_type": "stream",
     "text": [
      "Cannot be divisible by zero\n"
     ]
    }
   ],
   "source": [
    "a = int(input(\"Enter First number : \"))\n",
    "b = int(input(\"Enter Second number : \"))\n",
    "\n",
    "try:\n",
    "    c = a/b\n",
    "except ZeroDivisionError :\n",
    "    print(\"Cannot be divisible by zero\")\n",
    "except ValueError:\n",
    "    print(\"Invalid Input\")\n",
    "    "
   ]
  },
  {
   "cell_type": "code",
   "execution_count": null,
   "id": "9a029df7-4725-4db3-a425-098d4d1e8ae7",
   "metadata": {},
   "outputs": [],
   "source": []
  }
 ],
 "metadata": {
  "kernelspec": {
   "display_name": "Python [conda env:base] *",
   "language": "python",
   "name": "conda-base-py"
  },
  "language_info": {
   "codemirror_mode": {
    "name": "ipython",
    "version": 3
   },
   "file_extension": ".py",
   "mimetype": "text/x-python",
   "name": "python",
   "nbconvert_exporter": "python",
   "pygments_lexer": "ipython3",
   "version": "3.13.5"
  }
 },
 "nbformat": 4,
 "nbformat_minor": 5
}
