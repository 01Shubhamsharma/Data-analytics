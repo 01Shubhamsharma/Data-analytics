{
 "cells": [
  {
   "cell_type": "code",
   "execution_count": 1,
   "id": "3b79c608-55f4-4b84-b68a-cb0608c027b9",
   "metadata": {},
   "outputs": [
    {
     "name": "stdin",
     "output_type": "stream",
     "text": [
      "enter your paaswword SHub\n"
     ]
    },
    {
     "name": "stdout",
     "output_type": "stream",
     "text": [
      "wrong paasword! 5) attempts left.\n"
     ]
    },
    {
     "name": "stdin",
     "output_type": "stream",
     "text": [
      "enter your paaswword shub\n",
      "enter your paaswword janakpuri\n"
     ]
    },
    {
     "name": "stdout",
     "output_type": "stream",
     "text": [
      "Access granted\n"
     ]
    }
   ],
   "source": [
    "paasword=\"janakpuri\"\n",
    "attempts = 6\n",
    "while attempts > 0:\n",
    "    user_input=input(\"enter your paaswword\")\n",
    "    if user_input == paasword:\n",
    "        print(\"Access granted\")\n",
    "        break\n",
    "    else:\n",
    "        attempts -=1 \n",
    "        if attempts==4:\n",
    "            continue\n",
    "        print(f\"wrong paasword! {attempts}) attempts left.\")"
   ]
  },
  {
   "cell_type": "code",
   "execution_count": 14,
   "id": "aebb27a7-57a0-44db-82ff-e759ff9dbbfb",
   "metadata": {},
   "outputs": [
    {
     "ename": "SyntaxError",
     "evalue": "invalid non-printable character U+00A0 (289439014.py, line 6)",
     "output_type": "error",
     "traceback": [
      "\u001b[1;36m  Cell \u001b[1;32mIn[14], line 6\u001b[1;36m\u001b[0m\n\u001b[1;33m    i+=1\u001b[0m\n\u001b[1;37m    ^\u001b[0m\n\u001b[1;31mSyntaxError\u001b[0m\u001b[1;31m:\u001b[0m invalid non-printable character U+00A0\n"
     ]
    }
   ],
   "source": [
    "# while loop\n",
    "num= int(input(\"Enter any number\"))\n",
    "i=1\n",
    "while i <=10:\n",
    "    print(f\"{num} x {i} = {num * i}\") #f is used for formating\n",
    "    i+=1"
   ]
  },
  {
   "cell_type": "code",
   "execution_count": 13,
   "id": "c9a1e7f8-15fa-4948-bcf0-cfa824471ac2",
   "metadata": {},
   "outputs": [
    {
     "name": "stdout",
     "output_type": "stream",
     "text": [
      "2x1 = 2\n",
      "2x3 = 6\n",
      "2x5 = 10\n",
      "2x7 = 14\n",
      "2x9 = 18\n",
      "1\n",
      "2\n",
      "4\n",
      "5\n",
      "7\n",
      "35\n",
      "346\n",
      "33\n"
     ]
    }
   ],
   "source": [
    "str = [1,2,4,5,7,35,346,33]\n",
    "num = 2\n",
    "for i in range(1,10,2):#range(start,stop,step)\n",
    "    print(f\"{num}x{i} = {num*i}\")\n",
    "    \n",
    "for word in str:\n",
    "    print(word)"
   ]
  },
  {
   "cell_type": "code",
   "execution_count": 19,
   "id": "2f0f9933-f0c3-49e5-8b6d-c060d5c9e64e",
   "metadata": {},
   "outputs": [
    {
     "name": "stdout",
     "output_type": "stream",
     "text": [
      "954321\n"
     ]
    }
   ],
   "source": [
    "num = 123459\n",
    "rev_num = 0\n",
    "while num>0:\n",
    "    digit = num%10\n",
    "    rev_num = rev_num*10 + digit\n",
    "    num = num//10\n",
    "print(rev_num)"
   ]
  },
  {
   "cell_type": "code",
   "execution_count": 18,
   "id": "f568882f-81cc-4faa-a37a-2a0e430d3f84",
   "metadata": {},
   "outputs": [
    {
     "ename": "TypeError",
     "evalue": "'list' object is not callable",
     "output_type": "error",
     "traceback": [
      "\u001b[1;31m---------------------------------------------------------------------------\u001b[0m",
      "\u001b[1;31mTypeError\u001b[0m                                 Traceback (most recent call last)",
      "Cell \u001b[1;32mIn[18], line 2\u001b[0m\n\u001b[0;32m      1\u001b[0m num \u001b[38;5;241m=\u001b[39m \u001b[38;5;241m12345\u001b[39m\n\u001b[1;32m----> 2\u001b[0m reversed_num \u001b[38;5;241m=\u001b[39m \u001b[38;5;28mint\u001b[39m(\u001b[38;5;28mstr\u001b[39m(num)[::\u001b[38;5;241m-\u001b[39m\u001b[38;5;241m1\u001b[39m])\n\u001b[0;32m      3\u001b[0m \u001b[38;5;28mprint\u001b[39m(\u001b[38;5;124m\"\u001b[39m\u001b[38;5;124mReversed Number:\u001b[39m\u001b[38;5;124m\"\u001b[39m, reversed_num)\n",
      "\u001b[1;31mTypeError\u001b[0m: 'list' object is not callable"
     ]
    }
   ],
   "source": [
    "# num = 12345\n",
    "# reversed_num = int(str(num)[::-1])\n",
    "# print(\"Reversed Number:\", reversed_num)"
   ]
  },
  {
   "cell_type": "code",
   "execution_count": 22,
   "id": "b13fe68b-dadf-4a1b-9fcd-a734fe0fbbc3",
   "metadata": {},
   "outputs": [
    {
     "name": "stdout",
     "output_type": "stream",
     "text": [
      "[(1, 'Alice'), (2, 'Bob'), (3, 'Arjun')]\n"
     ]
    }
   ],
   "source": [
    "a = [1,2,3,5,6]\n",
    "b = [\"Alice\",\"Bob\",\"Arjun\"]\n",
    "\n",
    "zipped = list(zip(a,b))\n",
    "print(zipped)"
   ]
  },
  {
   "cell_type": "code",
   "execution_count": 23,
   "id": "a938145a-128a-42ee-98e4-a68b55d870b4",
   "metadata": {},
   "outputs": [
    {
     "name": "stdout",
     "output_type": "stream",
     "text": [
      "0 1 1 2 3 5 8 13 21 34 "
     ]
    }
   ],
   "source": [
    "def fib(n):\n",
    "    if n <= 1:\n",
    "        return n\n",
    "    else:\n",
    "        return fib(n-1) + fib(n-2)\n",
    "\n",
    "for i in range(10):\n",
    "    print(fib(i), end=' ')\n"
   ]
  },
  {
   "cell_type": "code",
   "execution_count": 25,
   "id": "19c0fe6a-d5d9-4b95-a3aa-e35e548cc24b",
   "metadata": {},
   "outputs": [
    {
     "name": "stdout",
     "output_type": "stream",
     "text": [
      "6\n"
     ]
    }
   ],
   "source": [
    "n = 36\n",
    "print(int(36**0.5))"
   ]
  },
  {
   "cell_type": "code",
   "execution_count": 29,
   "id": "9b52b17f-c2e4-4efc-91f5-3cabad6d5c27",
   "metadata": {},
   "outputs": [
    {
     "name": "stdin",
     "output_type": "stream",
     "text": [
      "Enter a number :  36\n"
     ]
    },
    {
     "name": "stdout",
     "output_type": "stream",
     "text": [
      "36 is NOT a Prime Number\n"
     ]
    }
   ],
   "source": [
    "def is_prime(n):\n",
    "    if n <= 1:\n",
    "        return False\n",
    "    for i in range(2, int(n**0.5)+1):  # check till square root of n\n",
    "        if n % i == 0:\n",
    "            return False\n",
    "    return True\n",
    "\n",
    "num = int(input(\"Enter a number : \"))\n",
    "if is_prime(num):\n",
    "    print(num, \"is a Prime Number\")\n",
    "else:\n",
    "    print(num, \"is NOT a Prime Number\")\n"
   ]
  },
  {
   "cell_type": "code",
   "execution_count": 31,
   "id": "277724de-d6a1-4adb-9719-73fcd034b7ae",
   "metadata": {},
   "outputs": [
    {
     "name": "stdin",
     "output_type": "stream",
     "text": [
      "Enter a number to get its factorial :  5\n"
     ]
    },
    {
     "name": "stdout",
     "output_type": "stream",
     "text": [
      "120\n"
     ]
    }
   ],
   "source": [
    "def fact(num):\n",
    "    if num == 1 or num == 0:\n",
    "        return 1\n",
    "    else:\n",
    "        return num*fact(num-1)\n",
    "num = int(input(\"Enter a number to get its factorial : \"))\n",
    "print(fact(num))"
   ]
  },
  {
   "cell_type": "code",
   "execution_count": 36,
   "id": "91a3fbcf-d447-4a22-81e4-3d0fd119b255",
   "metadata": {},
   "outputs": [
    {
     "name": "stdin",
     "output_type": "stream",
     "text": [
      "Enter 5 numbers 3\n"
     ]
    },
    {
     "ename": "IndexError",
     "evalue": "list assignment index out of range",
     "output_type": "error",
     "traceback": [
      "\u001b[1;31m---------------------------------------------------------------------------\u001b[0m",
      "\u001b[1;31mIndexError\u001b[0m                                Traceback (most recent call last)",
      "Cell \u001b[1;32mIn[36], line 3\u001b[0m\n\u001b[0;32m      1\u001b[0m \u001b[38;5;28mlist\u001b[39m \u001b[38;5;241m=\u001b[39m []\n\u001b[0;32m      2\u001b[0m \u001b[38;5;28;01mfor\u001b[39;00m i \u001b[38;5;129;01min\u001b[39;00m \u001b[38;5;28mrange\u001b[39m(\u001b[38;5;241m0\u001b[39m,\u001b[38;5;241m5\u001b[39m):\n\u001b[1;32m----> 3\u001b[0m   \u001b[38;5;28mlist\u001b[39m[i] \u001b[38;5;241m=\u001b[39m \u001b[38;5;28mint\u001b[39m(\u001b[38;5;28minput\u001b[39m(\u001b[38;5;124m\"\u001b[39m\u001b[38;5;124mEnter 5 numbers\u001b[39m\u001b[38;5;124m\"\u001b[39m))\n\u001b[0;32m      4\u001b[0m   \u001b[38;5;28mlist\u001b[39m\u001b[38;5;241m.\u001b[39mappend(\u001b[38;5;28mlist\u001b[39m[i])\n\u001b[0;32m      5\u001b[0m \u001b[38;5;28mprint\u001b[39m(\u001b[38;5;124m\"\u001b[39m\u001b[38;5;124mAverage : \u001b[39m\u001b[38;5;124m\"\u001b[39m,\u001b[38;5;28msum\u001b[39m(\u001b[38;5;28mlist\u001b[39m)\u001b[38;5;241m/\u001b[39m\u001b[38;5;241m5\u001b[39m)\n",
      "\u001b[1;31mIndexError\u001b[0m: list assignment index out of range"
     ]
    }
   ],
   "source": [
    "list = []\n",
    "for i in range(0,5):\n",
    "  list[i] = int(input(\"Enter 5 numbers\"))\n",
    "  list.append(list[i])\n",
    "print(\"Average : \",sum(list)/5)\n"
   ]
  },
  {
   "cell_type": "code",
   "execution_count": 37,
   "id": "1e09bcf8-2445-4c45-a376-659bf50f140c",
   "metadata": {},
   "outputs": [
    {
     "name": "stdin",
     "output_type": "stream",
     "text": [
      "Enter number 1:  2\n",
      "Enter number 2:  3\n",
      "Enter number 3:  4\n",
      "Enter number 4:  5\n",
      "Enter number 5:  7\n"
     ]
    },
    {
     "name": "stdout",
     "output_type": "stream",
     "text": [
      "Average is: 4.2\n"
     ]
    }
   ],
   "source": [
    "total = 0\n",
    "for i in range(5):\n",
    "    num = float(input(f\"Enter number {i+1}: \"))\n",
    "    total += num\n",
    "\n",
    "average = total / 5\n",
    "print(\"Average is:\", average)\n"
   ]
  },
  {
   "cell_type": "code",
   "execution_count": null,
   "id": "b4db72b4-1b1c-4317-a214-4e04373eb52b",
   "metadata": {},
   "outputs": [],
   "source": []
  }
 ],
 "metadata": {
  "kernelspec": {
   "display_name": "Python [conda env:base] *",
   "language": "python",
   "name": "conda-base-py"
  },
  "language_info": {
   "codemirror_mode": {
    "name": "ipython",
    "version": 3
   },
   "file_extension": ".py",
   "mimetype": "text/x-python",
   "name": "python",
   "nbconvert_exporter": "python",
   "pygments_lexer": "ipython3",
   "version": "3.13.5"
  }
 },
 "nbformat": 4,
 "nbformat_minor": 5
}
