{
 "cells": [
  {
   "cell_type": "code",
   "execution_count": 7,
   "id": "e80e39dc-5d2b-400f-909b-be3c3be7918a",
   "metadata": {},
   "outputs": [
    {
     "name": "stdout",
     "output_type": "stream",
     "text": [
      "5\n"
     ]
    }
   ],
   "source": [
    "def func(a,b):\n",
    "    return a+b\n",
    "print(func(2,3))#Should give same arguments as parameter otherwise it gives a type error : required argument not fullfilled"
   ]
  },
  {
   "cell_type": "code",
   "execution_count": 9,
   "id": "29c7283b-c755-4ac8-8cd5-46e4a0878724",
   "metadata": {},
   "outputs": [
    {
     "name": "stdout",
     "output_type": "stream",
     "text": [
      "5\n"
     ]
    }
   ],
   "source": [
    "Add = lambda a,b:a+b\n",
    "print(Add(2,3))"
   ]
  },
  {
   "cell_type": "code",
   "execution_count": 10,
   "id": "bacbff5d-4f60-4172-b437-6d74fd547e92",
   "metadata": {},
   "outputs": [
    {
     "name": "stdout",
     "output_type": "stream",
     "text": [
      "10\n",
      "5\n"
     ]
    }
   ],
   "source": [
    "x = 5\n",
    "def change():#Cannot change global variable\n",
    "    x=10\n",
    "    print(x)\n",
    "change()\n",
    "print(x)"
   ]
  },
  {
   "cell_type": "code",
   "execution_count": 11,
   "id": "0ddea47b-ae01-4ee5-a471-89cba97cdcfe",
   "metadata": {},
   "outputs": [
    {
     "name": "stdout",
     "output_type": "stream",
     "text": [
      "10\n",
      "10\n"
     ]
    }
   ],
   "source": [
    "x = 5\n",
    "def change():#Can change global variable\n",
    "    global x\n",
    "    x=10\n",
    "    print(x)\n",
    "change()\n",
    "print(x)"
   ]
  },
  {
   "cell_type": "code",
   "execution_count": 17,
   "id": "1c1f9fb8-8a35-407e-8343-4c30873f24ad",
   "metadata": {},
   "outputs": [
    {
     "name": "stdout",
     "output_type": "stream",
     "text": [
      "2\n",
      "4\n",
      "6\n",
      "8\n",
      "10\n",
      "12\n",
      "14\n",
      "16\n",
      "18\n",
      "20\n",
      "22\n",
      "24\n",
      "26\n",
      "28\n",
      "30\n",
      "32\n",
      "34\n",
      "36\n",
      "38\n",
      "40\n",
      "42\n",
      "44\n",
      "46\n",
      "48\n",
      "50\n"
     ]
    }
   ],
   "source": [
    "def print_i():\n",
    "    for i in range(2,51,2):\n",
    "            print(i)\n",
    "print_i()"
   ]
  },
  {
   "cell_type": "code",
   "execution_count": 23,
   "id": "e34fadc6-ba8e-40a2-95d9-9196137ec98b",
   "metadata": {},
   "outputs": [
    {
     "name": "stdout",
     "output_type": "stream",
     "text": [
      "Shubham is 20 Years old and 21 days\n"
     ]
    }
   ],
   "source": [
    "def student(name, age,days = 21):\n",
    "    print(name, \"is\" ,age, \"Years old and\",days,\"days\")\n",
    "student(age = 20,name = \"Shubham\")"
   ]
  },
  {
   "cell_type": "code",
   "execution_count": 28,
   "id": "934067cd-e605-4a2e-9110-7ded1050badc",
   "metadata": {},
   "outputs": [
    {
     "name": "stdout",
     "output_type": "stream",
     "text": [
      "total :  46\n"
     ]
    }
   ],
   "source": [
    "def total_marks(*marks):\n",
    "    print(\"total : \",sum(marks))\n",
    "total_marks(1,2,3,4,5,7,5,3,5,7,4)"
   ]
  },
  {
   "cell_type": "code",
   "execution_count": 29,
   "id": "03243b40-c2a7-4590-a906-776ccd4b07c7",
   "metadata": {},
   "outputs": [
    {
     "name": "stdout",
     "output_type": "stream",
     "text": [
      "24\n"
     ]
    }
   ],
   "source": [
    "def fact(num):\n",
    "  if num == 0 or num==1:\n",
    "    return 1\n",
    "  else:\n",
    "    return num*fact(num-1)\n",
    "print(fact(4))"
   ]
  },
  {
   "cell_type": "code",
   "execution_count": 30,
   "id": "f166ec1f-b996-4344-9146-e175568c8d97",
   "metadata": {},
   "outputs": [
    {
     "name": "stdout",
     "output_type": "stream",
     "text": [
      "8\n"
     ]
    }
   ],
   "source": [
    "def largest(*nums):\n",
    "  largest_number = nums[0]\n",
    "  for num in nums:\n",
    "    if num>largest_number:\n",
    "      largest_number = num\n",
    "  return largest_number\n",
    "print(largest(1,2,3,4,6,7,8))"
   ]
  },
  {
   "cell_type": "code",
   "execution_count": 31,
   "id": "ee833607-f676-43f3-95f5-b17c9ed3d169",
   "metadata": {},
   "outputs": [
    {
     "name": "stdout",
     "output_type": "stream",
     "text": [
      "mahbuhS\n"
     ]
    }
   ],
   "source": [
    "def Rev(word):\n",
    "  return word[::-1]\n",
    "print(Rev(\"Shubham\"))"
   ]
  },
  {
   "cell_type": "code",
   "execution_count": 33,
   "id": "2a1eec11-da51-421c-ac83-2331fbaff430",
   "metadata": {
    "scrolled": true
   },
   "outputs": [
    {
     "name": "stdout",
     "output_type": "stream",
     "text": [
      "[0]\n"
     ]
    }
   ],
   "source": [
    "def febo(size):\n",
    "  a, b = 0, 1\n",
    "  feb = []\n",
    "  for i in range(size):\n",
    "    feb.append(a)\n",
    "    a, b = b, a + b\n",
    "    return feb  \n",
    "print(febo(5))\n"
   ]
  },
  {
   "cell_type": "code",
   "execution_count": 34,
   "id": "531c5772-bae0-4003-8fd6-1c3ab8b6df77",
   "metadata": {},
   "outputs": [
    {
     "data": {
      "text/plain": [
       "function"
      ]
     },
     "execution_count": 34,
     "metadata": {},
     "output_type": "execute_result"
    }
   ],
   "source": [
    "type(lambda x: x)"
   ]
  },
  {
   "cell_type": "code",
   "execution_count": 36,
   "id": "db3bad74-1dea-4bd8-b26b-b9f9ab0e945b",
   "metadata": {},
   "outputs": [
    {
     "name": "stdout",
     "output_type": "stream",
     "text": [
      "<class 'set'>\n"
     ]
    }
   ],
   "source": [
    "seen = set()\n",
    "print(type(seen))\n"
   ]
  },
  {
   "cell_type": "code",
   "execution_count": 38,
   "id": "c7ba6edb-5b7e-489d-811b-8245a467a025",
   "metadata": {},
   "outputs": [
    {
     "name": "stdout",
     "output_type": "stream",
     "text": [
      "50\n"
     ]
    }
   ],
   "source": [
    "def large(*nums):#1,2,3,4,5,6\n",
    "    largest_num = nums[0]\n",
    "    for num in nums:\n",
    "        if num>largest_num:\n",
    "            largest_num=num\n",
    "    return largest_num\n",
    "print(large(1,6,2,4,3,50))\n",
    "        "
   ]
  },
  {
   "cell_type": "code",
   "execution_count": 42,
   "id": "8745d741-5bc4-4eeb-a40f-c332a990b498",
   "metadata": {},
   "outputs": [
    {
     "name": "stdout",
     "output_type": "stream",
     "text": [
      "[0, 1, 1, 2, 3, 5, 8, 13, 21]\n"
     ]
    }
   ],
   "source": [
    "def fibo(size):\n",
    "    a,b = 0,1\n",
    "    Fib = []\n",
    "    for i in range(size):\n",
    "        Fib.append(a)\n",
    "        a,b = b,a+b\n",
    "    return Fib\n",
    "print(fibo(9))\n",
    "    "
   ]
  },
  {
   "cell_type": "code",
   "execution_count": 24,
   "id": "73ef1f38-3e67-4f2a-bfef-36cf0b03c85a",
   "metadata": {},
   "outputs": [
    {
     "name": "stdout",
     "output_type": "stream",
     "text": [
      "[1, 2, 3, 4, 5, 8, 2]\n",
      "[1, 4, 2, 3, 4, 5, 8, 2]\n",
      "[1, 4, 2, 4, 5, 8, 2]\n",
      "[1, 2, 2, 4, 4, 5, 8]\n",
      "[8, 5, 4, 4, 2, 2, 1]\n",
      "[8, 5, 4, 4, 2, 2, 1, 1, 2, 5, 3, 2, 2]\n",
      "[8, 5, 4, 4, 2, 2, 1, 1, 2, 5, 3, 2]\n",
      "4\n",
      "4\n",
      "[1, 2, 3, 4, 5]\n"
     ]
    }
   ],
   "source": [
    "#List methods\n",
    "lis = [1,2,3,4,5,8]#to insert elements at last\n",
    "lis.append(2)\n",
    "print(lis)\n",
    "\n",
    "lis.insert(1,4)#To insert a elements to any specific index,syntax : insert(index,value)\n",
    "print(lis)\n",
    "\n",
    "lis.remove(3)#To remove a specific value from the list\n",
    "print(lis)\n",
    "\n",
    "lis.sort()#To sort the elements in the list in ascending order by default,Syntax: sort(iterable,key=,reverse=True/False)\n",
    "print(lis)\n",
    "\n",
    "lis.reverse()#To reverse the list\n",
    "print(lis)\n",
    "\n",
    "lis.extend([1,2,5,3,2,2])#To Add Elements to the list \n",
    "print(lis)\n",
    "\n",
    "lis.pop()#To remove the last elements of the list\n",
    "print(lis)\n",
    "\n",
    "# lis.clear()\n",
    "# print(lis)\n",
    "\n",
    "print(lis.index(2))\n",
    "\n",
    "print(lis.count(2))\n",
    "\n",
    "marks = [1,2,3,4,5]\n",
    "loss = marks.copy()\n",
    "print(loss)"
   ]
  },
  {
   "cell_type": "code",
   "execution_count": 11,
   "id": "9906a48d-5c32-4cdb-ad29-52510f8bfd59",
   "metadata": {},
   "outputs": [
    {
     "name": "stdin",
     "output_type": "stream",
     "text": [
      "Enter a word SHubham\n"
     ]
    },
    {
     "name": "stdout",
     "output_type": "stream",
     "text": [
      "No,its not a palindrome\n"
     ]
    }
   ],
   "source": [
    "def is_palindrome(word):#Madam\n",
    "    word = word.replace(\" \",\"\").lower()\n",
    "    start = 0\n",
    "    end = len(word)-1\n",
    "    while(start<end):\n",
    "        if word[start]!=word[end]:\n",
    "            print(\"No,its not a palindrome\")\n",
    "            return\n",
    "        start += 1\n",
    "        end -= 1\n",
    "    print(\"Its a palindrome\")\n",
    "        \n",
    "is_palindrome(input(\"Enter a word\"))\n",
    "    "
   ]
  },
  {
   "cell_type": "code",
   "execution_count": 23,
   "id": "d162eaee-0869-4730-b67a-9f376deb82e1",
   "metadata": {},
   "outputs": [
    {
     "name": "stdout",
     "output_type": "stream",
     "text": [
      "(1, 2, 3, 4, 5, 6)\n"
     ]
    }
   ],
   "source": [
    "Tuple = (1,2,3,4,5,6)\n",
    "print(Tuple)"
   ]
  },
  {
   "cell_type": "code",
   "execution_count": 16,
   "id": "ebd4880a-a190-476f-a5a0-643e2d098089",
   "metadata": {},
   "outputs": [
    {
     "name": "stdin",
     "output_type": "stream",
     "text": [
      "Enter a word :  Japanese\n"
     ]
    },
    {
     "name": "stdout",
     "output_type": "stream",
     "text": [
      "esenapaJ\n"
     ]
    }
   ],
   "source": [
    "def Rev(word):\n",
    "    reversed = \"\"\n",
    "    for char in word:\n",
    "        reversed = char + reversed\n",
    "    return reversed\n",
    "print(Rev(input(\"Enter a word : \")))"
   ]
  },
  {
   "cell_type": "code",
   "execution_count": 27,
   "id": "813f7079-9c22-4b7c-9ef5-78332b474bbd",
   "metadata": {},
   "outputs": [
    {
     "name": "stdout",
     "output_type": "stream",
     "text": [
      "[0, 1, 2, 3]\n",
      "[4, 5, 6, 7, 8, 9]\n"
     ]
    }
   ],
   "source": [
    "num = [0,1,2,3,4,5,6,7,8,9]\n",
    "print(num[0:4])\n",
    "print(num[4:])"
   ]
  },
  {
   "cell_type": "code",
   "execution_count": 28,
   "id": "302131ce-489b-41d1-88f4-3c696f54a4ec",
   "metadata": {},
   "outputs": [
    {
     "data": {
      "text/plain": [
       "[1, 4, 9]"
      ]
     },
     "execution_count": 28,
     "metadata": {},
     "output_type": "execute_result"
    }
   ],
   "source": [
    "[i**2 for i in [1,2,3]]"
   ]
  },
  {
   "cell_type": "code",
   "execution_count": 30,
   "id": "d8bb8114-ab65-414c-aa7c-6a38cf1eec5d",
   "metadata": {},
   "outputs": [
    {
     "name": "stdout",
     "output_type": "stream",
     "text": [
      "[1, 4, 9, 16, 25]\n"
     ]
    }
   ],
   "source": [
    "lis = [1,2,3,4,5]\n",
    "loss = [num**2 for num in lis]\n",
    "print(loss)\n"
   ]
  },
  {
   "cell_type": "code",
   "execution_count": null,
   "id": "a54f7eb2-dd52-40d5-b909-73584834c0df",
   "metadata": {},
   "outputs": [],
   "source": []
  }
 ],
 "metadata": {
  "kernelspec": {
   "display_name": "Python [conda env:base] *",
   "language": "python",
   "name": "conda-base-py"
  },
  "language_info": {
   "codemirror_mode": {
    "name": "ipython",
    "version": 3
   },
   "file_extension": ".py",
   "mimetype": "text/x-python",
   "name": "python",
   "nbconvert_exporter": "python",
   "pygments_lexer": "ipython3",
   "version": "3.13.5"
  }
 },
 "nbformat": 4,
 "nbformat_minor": 5
}
