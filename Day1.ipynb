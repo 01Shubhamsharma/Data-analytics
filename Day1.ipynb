{
 "cells": [
  {
   "cell_type": "code",
   "execution_count": 2,
   "id": "b12df28b-41ec-432b-99cf-9dca0b0b3392",
   "metadata": {},
   "outputs": [
    {
     "name": "stdout",
     "output_type": "stream",
     "text": [
      "<class 'int'>\n"
     ]
    }
   ],
   "source": [
    "#datatypes(BASIC)\n",
    "a = 10\n",
    "print(type(a))"
   ]
  },
  {
   "cell_type": "code",
   "execution_count": 3,
   "id": "db9e302e-385c-4223-8821-b6b0c4a2085e",
   "metadata": {},
   "outputs": [
    {
     "name": "stdout",
     "output_type": "stream",
     "text": [
      "<class 'float'>\n"
     ]
    }
   ],
   "source": [
    "a = 4.4\n",
    "print(type(a))"
   ]
  },
  {
   "cell_type": "code",
   "execution_count": 4,
   "id": "45de4f5f-48d7-4293-a9f2-63ff68bb1b95",
   "metadata": {},
   "outputs": [
    {
     "name": "stdout",
     "output_type": "stream",
     "text": [
      "<class 'bool'>\n"
     ]
    }
   ],
   "source": [
    "a = True\n",
    "print(type(a))"
   ]
  },
  {
   "cell_type": "code",
   "execution_count": 5,
   "id": "f603b77f-f798-4de0-b311-ee19303e4ba2",
   "metadata": {},
   "outputs": [
    {
     "name": "stdout",
     "output_type": "stream",
     "text": [
      "<class 'str'>\n"
     ]
    }
   ],
   "source": [
    "a = \"Shubham\"\n",
    "print(type(a))"
   ]
  },
  {
   "cell_type": "code",
   "execution_count": 10,
   "id": "7bc31d2e-6be1-4db6-974f-859834a4e8ca",
   "metadata": {},
   "outputs": [
    {
     "name": "stdout",
     "output_type": "stream",
     "text": [
      "<class 'str'>\n"
     ]
    }
   ],
   "source": [
    "a \n",
    "print(type(a))"
   ]
  },
  {
   "cell_type": "code",
   "execution_count": 19,
   "id": "1fade8ea-229e-409e-8477-8d923ef3fcc3",
   "metadata": {},
   "outputs": [
    {
     "name": "stdout",
     "output_type": "stream",
     "text": [
      "<class 'str'>\n"
     ]
    }
   ],
   "source": [
    "a = 3\n",
    "b = str(a)\n",
    "print(type(b))"
   ]
  },
  {
   "cell_type": "code",
   "execution_count": 18,
   "id": "4ad97bec-4269-4b9c-9265-0a1851cadef8",
   "metadata": {},
   "outputs": [
    {
     "name": "stdout",
     "output_type": "stream",
     "text": [
      "<class 'str'>\n"
     ]
    }
   ],
   "source": [
    "b = 4.3\n",
    "c = str(b)\n",
    "print(type(c))"
   ]
  },
  {
   "cell_type": "code",
   "execution_count": null,
   "id": "8ace3ce9-4422-4b41-b36b-2f7a50164cca",
   "metadata": {},
   "outputs": [],
   "source": [
    "#Arithmatic Operators\n",
    "#+,-,*,/,**,//,%"
   ]
  },
  {
   "cell_type": "code",
   "execution_count": 20,
   "id": "3aa5c82f-e928-434e-afb9-173a89c096dd",
   "metadata": {},
   "outputs": [
    {
     "name": "stdin",
     "output_type": "stream",
     "text": [
      "Enter fist number :  10\n",
      "Enter second number :  20\n"
     ]
    },
    {
     "name": "stdout",
     "output_type": "stream",
     "text": [
      "30\n",
      "-10\n",
      "200\n",
      "0.5\n",
      "10\n",
      "100000000000000000000\n",
      "0\n"
     ]
    }
   ],
   "source": [
    "a = int(input(\"Enter fist number : \"))\n",
    "b = int(input(\"Enter second number : \"))\n",
    "print(a+b)\n",
    "print(a-b)\n",
    "print(a*b)\n",
    "print(a/b)\n",
    "print(a%b)\n",
    "print(a**b)\n",
    "print(a//b)"
   ]
  },
  {
   "cell_type": "code",
   "execution_count": 21,
   "id": "274e4cea-163d-4f09-ab57-a349c87642a5",
   "metadata": {},
   "outputs": [
    {
     "name": "stdout",
     "output_type": "stream",
     "text": [
      "False\n",
      "False\n",
      "True\n",
      "False\n",
      "True\n"
     ]
    }
   ],
   "source": [
    "#camparision Operators : <,>,<=,>=,==,!=\n",
    "a=10\n",
    "b=20\n",
    "print(a>b)\n",
    "print(a>=b)\n",
    "print(a<=b)\n",
    "print(a==b)\n",
    "print(a!=b)"
   ]
  },
  {
   "cell_type": "code",
   "execution_count": 23,
   "id": "70d6c689-3400-44f6-86b7-eba7058fd9e3",
   "metadata": {},
   "outputs": [
    {
     "name": "stdin",
     "output_type": "stream",
     "text": [
      "Enter x :  23\n",
      "Enter y :  45\n",
      "Enter z :  23\n"
     ]
    },
    {
     "name": "stdout",
     "output_type": "stream",
     "text": [
      "Sum :  91\n",
      "Average :  30.333333333333332\n",
      "Is Average Greater thyan 50 ?  False\n",
      "Is sum Divisible by 5? False\n"
     ]
    }
   ],
   "source": [
    "#.Q: Write a program where:\n",
    "# User enters 3 numbers: x, y, z\n",
    "# Print the sum, average, and check:\n",
    "# Is average greater than 50?\n",
    "# Is sum divisible by 5?\n",
    "\n",
    "x = int(input(\"Enter x : \"))\n",
    "y = int(input(\"Enter y : \"))\n",
    "z = int(input(\"Enter z : \"))\n",
    "sum = x+y+z\n",
    "print(\"Sum : \",sum)\n",
    "Average = sum/3\n",
    "print(\"Average : \",Average)\n",
    "print(\"Is Average Greater thyan 50 ? \",Average>50)\n",
    "print(\"Is sum Divisible by 5?\",sum%5==0)"
   ]
  },
  {
   "cell_type": "code",
   "execution_count": 28,
   "id": "033245a3-c546-43b3-9316-d033844b8948",
   "metadata": {},
   "outputs": [
    {
     "name": "stdout",
     "output_type": "stream",
     "text": [
      "False\n",
      "True\n",
      "True\n"
     ]
    }
   ],
   "source": [
    "#Logical Operators : and, or, not\\\n",
    "a=50\n",
    "b=60\n",
    "print(a<b and a==b)\n",
    "print(a<b or a==b)\n",
    "print(not(a>b) and not(a==b))"
   ]
  },
  {
   "cell_type": "code",
   "execution_count": 29,
   "id": "75d66055-43d1-4252-9150-e6fe8490d5e5",
   "metadata": {},
   "outputs": [
    {
     "name": "stdout",
     "output_type": "stream",
     "text": [
      "2 is found\n"
     ]
    }
   ],
   "source": [
    "#Membership Operator : in, not in \n",
    "a = [1,2,3,4,5]\n",
    "if 2 in a:\n",
    "    print(\"2 is found\")"
   ]
  },
  {
   "cell_type": "code",
   "execution_count": 35,
   "id": "c6dbb914-1cf9-49ff-898d-c493952b62c9",
   "metadata": {},
   "outputs": [
    {
     "name": "stdout",
     "output_type": "stream",
     "text": [
      "True\n",
      "True\n",
      "True\n",
      "False\n"
     ]
    }
   ],
   "source": [
    "# Identity Operator: is, is not\n",
    "\n",
    "a = [1, 2, 3, 4, 5, 6]\n",
    "b = a                 # b points to the same list as a\n",
    "c = [1, 2, 3, 4, 5, 6] # c is a new list with same values as a\n",
    "\n",
    "# '==' checks if values are equal\n",
    "print(a == b)  # True, because the values in both lists are the same\n",
    "print(a == c)  # True, because values are same even if the objects are different\n",
    "\n",
    "# 'is' checks if both variables refer to the same object in memory\n",
    "print(a is b)  # True, because b points to the exact same object as a\n",
    "print(a is c)  # False, because c is a different object in memory even though values match\n"
   ]
  },
  {
   "cell_type": "code",
   "execution_count": 36,
   "id": "859751b9-c024-47d4-be35-469e98b1e168",
   "metadata": {},
   "outputs": [
    {
     "name": "stdout",
     "output_type": "stream",
     "text": [
      "1\n",
      "7\n",
      "6\n",
      "-6\n",
      "10\n",
      "2\n",
      "2\n"
     ]
    }
   ],
   "source": [
    "#Bitwise Operator : OR, AND, NOR\n",
    "a = 5      # 0101\n",
    "b = 3      # 0011\n",
    "print(a & b)  # 0101 & 0011 = 0001 → 1\n",
    "print(a | b)  # 0101 | 0011 = 0111 → 7\n",
    "print(a ^ b)  # 0101 ^ 0011 = 0110 → 6\n",
    "print(~a)     # ~5 = -(5 + 1) = -6\n",
    "print(a << 1) # 0101 becomes 1010 → 10\n",
    "print(a >> 1) # 0101 becomes 0010 → 2\n",
    "print(a >> 1) # 0101 becomes 0010 → 2\n"
   ]
  },
  {
   "cell_type": "code",
   "execution_count": 2,
   "id": "2be6ffc9-522e-471b-b12f-4041dc72b38d",
   "metadata": {},
   "outputs": [
    {
     "data": {
      "text/plain": [
       "2"
      ]
     },
     "execution_count": 2,
     "metadata": {},
     "output_type": "execute_result"
    }
   ],
   "source": [
    "len(\"hi\")"
   ]
  },
  {
   "cell_type": "code",
   "execution_count": null,
   "id": "8444aaba-e3fc-4446-9cbd-5fd1025aa6a6",
   "metadata": {},
   "outputs": [],
   "source": []
  }
 ],
 "metadata": {
  "kernelspec": {
   "display_name": "Python [conda env:base] *",
   "language": "python",
   "name": "conda-base-py"
  },
  "language_info": {
   "codemirror_mode": {
    "name": "ipython",
    "version": 3
   },
   "file_extension": ".py",
   "mimetype": "text/x-python",
   "name": "python",
   "nbconvert_exporter": "python",
   "pygments_lexer": "ipython3",
   "version": "3.13.5"
  }
 },
 "nbformat": 4,
 "nbformat_minor": 5
}
