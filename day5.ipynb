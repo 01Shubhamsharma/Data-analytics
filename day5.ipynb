{
 "cells": [
  {
   "cell_type": "code",
   "execution_count": 2,
   "id": "ace5793c-f8f6-4323-bf5c-45a46398d8f4",
   "metadata": {},
   "outputs": [
    {
     "name": "stdout",
     "output_type": "stream",
     "text": [
      "3\n",
      "(1, 2, 2, 3, 4, 4, 2)\n",
      "3\n"
     ]
    }
   ],
   "source": [
    "#Tuple \n",
    "#immutable,\n",
    "#methods\n",
    "tup = (1,2,2,3,4,4,2)\n",
    "print(tup.count(2))#To count the number of occurance of any specific element\n",
    "print(tup)\n",
    "print(tup.index(3))#it will return the first index of the element"
   ]
  },
  {
   "cell_type": "code",
   "execution_count": 22,
   "id": "f66b29c5-be35-4f14-a5e8-8ed6ca0cea35",
   "metadata": {},
   "outputs": [
    {
     "name": "stdout",
     "output_type": "stream",
     "text": [
      "{1, 2, 3, 4, 5, 7}\n",
      "{0, 1, 2, 3, 4, 7}\n",
      "{1, 2, 3, 4}\n",
      "{0, 1, 2, 3, 4, 7}\n",
      "{1, 2, 3, 4, 5}\n",
      "{0, 7}\n",
      "set()\n",
      "False\n",
      "False\n",
      "{0, 1, 2, 3, 4, 7}\n",
      "0\n",
      "{1, 2, 3, 4, 7}\n",
      "{1, 2, 3, 4}\n",
      "set()\n"
     ]
    }
   ],
   "source": [
    "#Set\n",
    "set0 = {1,2,3,2,3,4,7}\n",
    "set1 = {1,2,3,4,5}\n",
    "\n",
    "print(set0.union(set1))\n",
    "set0.add(0)\n",
    "print(set0)\n",
    "print(set0.intersection(set1))\n",
    "print(set0)\n",
    "print(set1)\n",
    "print(set0.difference(set1))\n",
    "print(set0.symmetric_difference(set0))\n",
    "print(set0.issubset(set1))\n",
    "print(set0.isdisjoint(set1))\n",
    "# print(set0.is(set1))\n",
    "print(set0)\n",
    "print(set0.pop())\n",
    "print(set0)\n",
    "set0.remove(7)\n",
    "print(set0)\n",
    "set0.clear()\n",
    "print(set0)"
   ]
  },
  {
   "cell_type": "code",
   "execution_count": 31,
   "id": "2d45916f-fedb-4e29-8a96-8da30a36eedf",
   "metadata": {},
   "outputs": [
    {
     "name": "stdout",
     "output_type": "stream",
     "text": [
      "Shubham\n",
      "dict_keys([1, 2, 3, 4])\n",
      "dict_values(['Shubham', 'Sharma', 'Naruto', 'Sasuke'])\n",
      "dict_items([(1, 'Shubham'), (2, 'Sharma'), (3, 'Naruto'), (4, 'Sasuke')])\n",
      "None\n",
      "{1: 'Shubham', 2: 'Sharma', 3: 'Naruto', 4: 'Sasuke', 5: 'Kakashi', 6: 'Sakura'}\n",
      "Sharma\n",
      "(6, 'Sakura')\n",
      "None\n"
     ]
    }
   ],
   "source": [
    "dic = {1:\"Shubham\",2:\"Sharma\",3:\"Naruto\",4:\"Sasuke\"}\n",
    "dic2 = {5:\"Kakashi\",6:\"Sakura\"}\n",
    "print(dic.get(1))\n",
    "print(dic.keys())#all keys\n",
    "print(dic.values())#all values\n",
    "print(dic.items())#all pairs\n",
    "print(dic.update(dic2))#add items from other dict\n",
    "print(dic.copy())#returns a shallwo copy\n",
    "print(dic.pop(2))#only key\n",
    "print(dic.popitem())#Key value pair\n",
    "print(dic.clear())"
   ]
  },
  {
   "cell_type": "code",
   "execution_count": null,
   "id": "9e108211-4595-4088-847c-d792b182d4f0",
   "metadata": {},
   "outputs": [],
   "source": [
    "#File handling\n",
    "'''\n",
    "1.open()\n",
    "2.read(),readline(),readlines()\n",
    "3.write(),writelines()\n",
    "4.close()\n",
    "5.delete file os.remove(File_name)\n",
    "'''\n",
    "#File opening mode \n",
    "'''\n",
    "'r' = read,error if file doesnt exist\n",
    "'w' = Write,Creates a new file is not exist\n",
    "'a' = append - adds data at the end\n",
    "'x' = Create - error if file exist\n",
    "'b' = Binary mode \n",
    "'t' = Text mode(default)\n",
    "'''\n"
   ]
  },
  {
   "cell_type": "code",
   "execution_count": 42,
   "id": "1eb32e56-660e-4461-acc2-953f1d906d63",
   "metadata": {},
   "outputs": [
    {
     "name": "stdout",
     "output_type": "stream",
     "text": [
      "Python is awesome\n"
     ]
    }
   ],
   "source": [
    "#1.Open a file and read\n",
    "file = open(\"myfile.txt\",'r')\n",
    "content = file.read()\n",
    "print(content)\n",
    "file.close()"
   ]
  },
  {
   "cell_type": "code",
   "execution_count": 1,
   "id": "d1e15434-288b-4682-865b-a4b72f00c744",
   "metadata": {},
   "outputs": [],
   "source": [
    "#write in a file\n",
    "file1 = open(\"myfile.txt\",'w')\n",
    "file1.write(\"Python is awesome\")\n",
    "file1.close()"
   ]
  },
  {
   "cell_type": "code",
   "execution_count": 44,
   "id": "a6c3f1e4-4677-4d85-a73e-406791f8a9e0",
   "metadata": {},
   "outputs": [],
   "source": [
    "#Deleting the file \n",
    "# import os\n",
    "# if os.path.exists(\"myfile.txt\"):\n",
    "#     os.remove(\"myfile.txt\")\n",
    "#     print(\"File deleted\")\n",
    "# else:\n",
    "#     print(\"File doesn't exists\")"
   ]
  },
  {
   "cell_type": "code",
   "execution_count": 4,
   "id": "77a21bd5-8b7c-42f3-8f26-5dc18aa05ac3",
   "metadata": {},
   "outputs": [
    {
     "name": "stdin",
     "output_type": "stream",
     "text": [
      "Enter a number :  h\n"
     ]
    },
    {
     "name": "stdout",
     "output_type": "stream",
     "text": [
      "Invalid input! Please enter a number.\n"
     ]
    }
   ],
   "source": [
    "#Exception handling \n",
    "try:\n",
    "    x = int(input(\"Enter a number : \"))\n",
    "    print(\"You entered : \",x)\n",
    "except ValueError:\n",
    "    print(\"Invalid input! Please enter a number.\")"
   ]
  },
  {
   "cell_type": "code",
   "execution_count": 8,
   "id": "77a4805b-4c88-481a-a123-c8a62664bf6f",
   "metadata": {},
   "outputs": [
    {
     "name": "stdout",
     "output_type": "stream",
     "text": [
      "[1, 2, 3, 4, 5, 6]\n"
     ]
    }
   ],
   "source": [
    "#Every error comes in Runtime error\n",
    "'''\n",
    "Create an empty list and take 5 numbers as input from the user. Append each number to the list and display the final list.\n",
    "\n",
    "Create two lists: list1 = [1, 2, 3] and list2 = [4, 5, 6]. Extend list1 using list2 and print the updated list.\n",
    "\n",
    "Insert the value 25 at index 2 in the list: l = [10, 20, 30, 40].\n",
    "\n",
    "Remove the first occurrence of the value 20 from the list: l = [10, 20, 30, 20, 40].\n",
    "\n",
    "Pop the last element from the list [1, 2, 3, 4, 5] and display both the popped item and the updated list.\n",
    "\n",
    "Find and print the index of the element 15 in the list [5, 10, 15, 20, 25].\n",
    "\n",
    "Count how many times the number 2 appears in the list [1, 2, 2, 3, 2, 4, 2].\n",
    "\n",
    "Sort the list [10, 5, 7, 3] in both ascending and descending order.\n",
    "\n",
    "Reverse the list [1, 2, 3, 4, 5] using the reverse() method.\n",
    "'''\n",
    "\n",
    "# lis = []\n",
    "# for i in range(5):\n",
    "#     num = int(input(\"Enter a number : \"))\n",
    "#     lis.append(num)\n",
    "# print(lis)\n",
    "\n",
    "list1 = [1,2,3]\n",
    "list2 = [4,5,6]\n",
    "list1.extend(list2)\n",
    "print(list1)"
   ]
  },
  {
   "cell_type": "code",
   "execution_count": 9,
   "id": "c7082042-53e0-4013-aa3f-a41e38b9cb90",
   "metadata": {},
   "outputs": [
    {
     "name": "stdout",
     "output_type": "stream",
     "text": [
      "[10, 20, 25, 30, 40]\n"
     ]
    }
   ],
   "source": [
    "l = [10, 20, 30, 40]\n",
    "l.insert(2,25)\n",
    "print(l)"
   ]
  },
  {
   "cell_type": "code",
   "execution_count": 10,
   "id": "1638d00e-b5e8-4b37-9a53-dd2001544e55",
   "metadata": {},
   "outputs": [
    {
     "name": "stdout",
     "output_type": "stream",
     "text": [
      "[10, 30, 20, 40]\n"
     ]
    }
   ],
   "source": [
    "l = [10, 20, 30, 20, 40]\n",
    "l.remove(20)\n",
    "print(l)\n"
   ]
  },
  {
   "cell_type": "code",
   "execution_count": 19,
   "id": "062a9855-639b-4fa7-b0df-4a7a22552223",
   "metadata": {},
   "outputs": [
    {
     "name": "stdout",
     "output_type": "stream",
     "text": [
      "Popped item :  5\n",
      "[1, 2, 3, 4]\n"
     ]
    }
   ],
   "source": [
    "l = [1, 2, 3, 4, 5]\n",
    "popped_item = l.pop()\n",
    "print(\"Popped item : \",popped_item)\n",
    "print(l)"
   ]
  },
  {
   "cell_type": "code",
   "execution_count": 12,
   "id": "5df675da-819b-4842-b13c-6330c8de54d7",
   "metadata": {},
   "outputs": [
    {
     "name": "stdout",
     "output_type": "stream",
     "text": [
      "2\n"
     ]
    }
   ],
   "source": [
    "l = [5, 10, 15, 20, 25]\n",
    "print(l.index(15))"
   ]
  },
  {
   "cell_type": "code",
   "execution_count": 13,
   "id": "44872365-42ca-4f6c-bb98-b7f19790b081",
   "metadata": {},
   "outputs": [
    {
     "name": "stdout",
     "output_type": "stream",
     "text": [
      "4\n"
     ]
    }
   ],
   "source": [
    "l =[1, 2, 2, 3, 2, 4, 2]\n",
    "print(l.count(2))"
   ]
  },
  {
   "cell_type": "code",
   "execution_count": 16,
   "id": "9a364297-f644-46a7-8504-79f01ccb77fa",
   "metadata": {},
   "outputs": [
    {
     "name": "stdout",
     "output_type": "stream",
     "text": [
      "[3, 5, 7, 10]\n",
      "[10, 7, 5, 3]\n"
     ]
    }
   ],
   "source": [
    "l = [10, 5, 7, 3]\n",
    "l.sort()\n",
    "print(l)\n",
    "l.sort(reverse = True)#sort(iterable , key, reverse = false)\n",
    "print(l)"
   ]
  },
  {
   "cell_type": "code",
   "execution_count": 18,
   "id": "d3b59b18-33e3-4c93-bfc8-dfea6bd6784e",
   "metadata": {},
   "outputs": [
    {
     "name": "stdout",
     "output_type": "stream",
     "text": [
      "[5, 4, 3, 2, 1]\n"
     ]
    }
   ],
   "source": [
    "l = [1, 2, 3, 4, 5] \n",
    "l.reverse()\n",
    "print(l)"
   ]
  },
  {
   "cell_type": "code",
   "execution_count": 21,
   "id": "0188ce73-3842-476a-adc8-34ce12eb78c3",
   "metadata": {},
   "outputs": [
    {
     "name": "stdin",
     "output_type": "stream",
     "text": [
      "Enter your age :  14\n"
     ]
    },
    {
     "name": "stdout",
     "output_type": "stream",
     "text": [
      "Error :  You should be 18 before voting\n"
     ]
    }
   ],
   "source": [
    "def check(age):\n",
    "    if age<18:\n",
    "        raise ValueError(\"You should be 18 before voting\")\n",
    "    return \"Access granted\"\n",
    "try:\n",
    "    age = int(input(\"Enter your age : \"))\n",
    "    print(check(age))\n",
    "except ValueError as e:\n",
    "    print(\"Error : \",e)"
   ]
  },
  {
   "cell_type": "code",
   "execution_count": 26,
   "id": "db33bf92-c526-431f-8d18-f6ba27ce16c1",
   "metadata": {},
   "outputs": [
    {
     "name": "stdout",
     "output_type": "stream",
     "text": [
      "Name : Shubham, Age : 32\n",
      "Name : Naruto, Age : 16\n"
     ]
    }
   ],
   "source": [
    "#OOPS\n",
    "class Student:\n",
    "    def __init__(self,name,age):\n",
    "        self.name = name\n",
    "        self.age = age\n",
    "    def show_details(self):\n",
    "        print(f\"Name : {self.name}, Age : {self.age}\")\n",
    "#Create Object\n",
    "s1 = Student(\"Shubham\", 32)\n",
    "s2 = Student(\"Naruto\", 16)\n",
    "s1.show_details()\n",
    "s2.show_details()"
   ]
  },
  {
   "cell_type": "code",
   "execution_count": null,
   "id": "07943563-9ee8-4b93-8280-998e0b601066",
   "metadata": {},
   "outputs": [],
   "source": []
  }
 ],
 "metadata": {
  "kernelspec": {
   "display_name": "Python [conda env:base] *",
   "language": "python",
   "name": "conda-base-py"
  },
  "language_info": {
   "codemirror_mode": {
    "name": "ipython",
    "version": 3
   },
   "file_extension": ".py",
   "mimetype": "text/x-python",
   "name": "python",
   "nbconvert_exporter": "python",
   "pygments_lexer": "ipython3",
   "version": "3.13.5"
  }
 },
 "nbformat": 4,
 "nbformat_minor": 5
}
